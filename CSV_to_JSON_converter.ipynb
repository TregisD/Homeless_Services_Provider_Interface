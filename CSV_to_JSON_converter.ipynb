{
 "cells": [
  {
   "cell_type": "code",
   "execution_count": 3,
   "id": "18fd2de0",
   "metadata": {},
   "outputs": [],
   "source": [
    "import csv\n",
    "import json\n",
    "import os\n",
    "\n",
    "def build_vocab_from_csvs(folder_path):\n",
    "    entities = set()\n",
    "    relations = set()\n",
    "\n",
    "    for filename in os.listdir(folder_path):\n",
    "        if filename.endswith(\".csv\"):\n",
    "            filepath = os.path.join(folder_path, filename)\n",
    "            with open(filepath, mode='r', encoding='utf-8') as csvfile:\n",
    "                reader = csv.reader(csvfile)\n",
    "                next(reader)  # Skip header\n",
    "                for row in reader:\n",
    "                    subject, relation, obj = [x.strip() for x in row]\n",
    "                    entities.update([subject, obj])\n",
    "                    relations.add(relation)\n",
    "\n",
    "    entity2id = {entity: idx for idx, entity in enumerate(sorted(entities))}\n",
    "    relation2id = {rel: idx for idx, rel in enumerate(sorted(relations))}\n",
    "\n",
    "    return entity2id, relation2id\n",
    "\n",
    "def csvs_to_json(folder_path, output_json_path):\n",
    "    entity2id, relation2id = build_vocab_from_csvs(folder_path)\n",
    "    data = []\n",
    "\n",
    "    for filename in os.listdir(folder_path):\n",
    "        if filename.endswith(\".csv\"):\n",
    "            filepath = os.path.join(folder_path, filename)\n",
    "            with open(filepath, mode='r', encoding='utf-8') as csvfile:\n",
    "                reader = csv.reader(csvfile)\n",
    "                next(reader)  # Skip header\n",
    "                for row in reader:\n",
    "                    subject, relation, obj = [x.strip() for x in row]\n",
    "\n",
    "                    entry = {\n",
    "                        \"instruction\": (\n",
    "                            \"Given a triple from a knowledge graph. Each triple consists of a head entity, \"\n",
    "                            \"a relation, and a tail entity. Please determine the correctness of the triple and response True or False.\"\n",
    "                        ),\n",
    "                        \"input\": f\"\\nThe input triple: \\n( {subject}, {relation}, {obj} )\\n\",\n",
    "                        \"output\": \"True\",\n",
    "                        \"embedding_ids\": [\n",
    "                            entity2id[subject],\n",
    "                            relation2id[relation],\n",
    "                            entity2id[obj]\n",
    "                        ]\n",
    "                    }\n",
    "                    data.append(entry)\n",
    "\n",
    "    with open(output_json_path, mode='w', encoding='utf-8') as jsonfile:\n",
    "        json.dump(data, jsonfile, indent=4)"
   ]
  },
  {
   "cell_type": "code",
   "execution_count": 4,
   "id": "1836b9aa",
   "metadata": {},
   "outputs": [],
   "source": [
    "csvs_to_json('Leo/Riverside/Triples_CSVs', \"test.json\")"
   ]
  },
  {
   "cell_type": "code",
   "execution_count": null,
   "id": "1350d088",
   "metadata": {},
   "outputs": [],
   "source": []
  }
 ],
 "metadata": {
  "kernelspec": {
   "display_name": "Python 3 (ipykernel)",
   "language": "python",
   "name": "python3"
  },
  "language_info": {
   "codemirror_mode": {
    "name": "ipython",
    "version": 3
   },
   "file_extension": ".py",
   "mimetype": "text/x-python",
   "name": "python",
   "nbconvert_exporter": "python",
   "pygments_lexer": "ipython3",
   "version": "3.11.5"
  }
 },
 "nbformat": 4,
 "nbformat_minor": 5
}
